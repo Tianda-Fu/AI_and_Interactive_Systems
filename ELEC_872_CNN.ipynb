{
 "cells": [
  {
   "cell_type": "code",
   "execution_count": 1,
   "id": "0272229d-6840-46f1-8cdc-471462e05374",
   "metadata": {},
   "outputs": [],
   "source": [
    "import tensorflow as tf\n",
    "import os\n",
    "import cv2\n",
    "import numpy as np\n",
    "import matplotlib as plt\n",
    "import warnings\n",
    "warnings.filterwarnings(\"ignore\")"
   ]
  },
  {
   "cell_type": "code",
   "execution_count": null,
   "id": "3122172d-25d6-42fc-b801-2eca9937c82b",
   "metadata": {},
   "outputs": [],
   "source": []
  },
  {
   "cell_type": "code",
   "execution_count": 2,
   "id": "6066d3ce-5de7-41a9-86a8-31103655adfd",
   "metadata": {},
   "outputs": [],
   "source": [
    "train_ASL_path = \"E:\\ELEC872_project\\\\archive\\output\\dataset\""
   ]
  },
  {
   "cell_type": "code",
   "execution_count": 3,
   "id": "33140041-de6e-41f4-849e-6bdf517d85c4",
   "metadata": {},
   "outputs": [
    {
     "name": "stdout",
     "output_type": "stream",
     "text": [
      "a\n",
      "1001\n",
      "size of this label: 1001\n",
      "b\n",
      "1001\n",
      "size of this label: 2002\n",
      "c\n",
      "1001\n",
      "size of this label: 3003\n",
      "d\n",
      "1001\n",
      "size of this label: 4004\n",
      "e\n",
      "1001\n",
      "size of this label: 5005\n",
      "f\n",
      "1001\n",
      "size of this label: 6006\n",
      "g\n",
      "1001\n",
      "size of this label: 7007\n",
      "h\n",
      "1001\n",
      "size of this label: 8008\n",
      "i\n",
      "1001\n",
      "size of this label: 9009\n",
      "j\n",
      "1001\n",
      "size of this label: 10010\n",
      "k\n",
      "1001\n",
      "size of this label: 11011\n",
      "l\n",
      "1001\n",
      "size of this label: 12012\n",
      "m\n",
      "1001\n",
      "size of this label: 13013\n",
      "n\n",
      "1001\n",
      "size of this label: 14014\n",
      "o\n",
      "1001\n",
      "size of this label: 15015\n",
      "p\n",
      "1001\n",
      "size of this label: 16016\n",
      "q\n",
      "1001\n",
      "size of this label: 17017\n",
      "r\n",
      "1001\n",
      "size of this label: 18018\n",
      "s\n",
      "1001\n",
      "size of this label: 19019\n",
      "t\n",
      "1001\n",
      "size of this label: 20020\n",
      "u\n",
      "1001\n",
      "size of this label: 21021\n",
      "v\n",
      "1001\n",
      "size of this label: 22022\n",
      "w\n",
      "1001\n",
      "size of this label: 23023\n",
      "x\n",
      "1001\n",
      "size of this label: 24024\n",
      "y\n",
      "1001\n",
      "size of this label: 25025\n",
      "z\n",
      "1001\n",
      "size of this label: 26026\n"
     ]
    }
   ],
   "source": [
    "labels = os.listdir(train_ASL_path)\n",
    "\n",
    "labels = [\"a\",\"b\",\"c\",\"d\",\"e\",\"f\",\"g\",\"h\",\"i\",\"j\",\"k\",\"l\",\"m\",\"n\",\"o\",\"p\",\"q\",\"r\",\"s\",\"t\",\"u\",\"v\",\"w\",\"x\",\"y\",\"z\"]\n",
    "\n",
    "all_img = []\n",
    "all_label = []\n",
    "\n",
    "for label in labels:\n",
    "    print(label)\n",
    "    imgs = [f for f in os.listdir(train_ASL_path + '\\\\' + label + '\\\\lit\\\\') if f.endswith('.png')]\n",
    "    print(len(imgs))\n",
    "    for img in imgs:\n",
    "        data = cv2.imread(train_ASL_path + '\\\\' + label + '\\\\lit\\\\' + img)\n",
    "        #print(data.shape)\n",
    "        #cv2.imshow('image', data)\n",
    "        data = cv2.resize(data, (128,128))\n",
    "        all_img.append(data)\n",
    "        all_label.append(label)\n",
    "    print(\"size of this label:\", len(all_img))"
   ]
  },
  {
   "cell_type": "code",
   "execution_count": 4,
   "id": "d8f7a11a-5a68-476b-ab5a-19e1a341462b",
   "metadata": {},
   "outputs": [
    {
     "name": "stdout",
     "output_type": "stream",
     "text": [
      "[ 0  0  0 ... 25 25 25]\n"
     ]
    }
   ],
   "source": [
    "from sklearn.preprocessing import OneHotEncoder\n",
    "from sklearn.preprocessing import LabelEncoder\n",
    "def OneHotEncoding(labels):\n",
    "    # convert array\n",
    "    labels = np.array(labels)\n",
    "    # integer encode\n",
    "    label_encoder = LabelEncoder()\n",
    "    integer_encoded = label_encoder.fit_transform(labels)\n",
    "    print(integer_encoded)\n",
    "    # binary encode\n",
    "    onehot_encoder = OneHotEncoder(sparse=False)\n",
    "    integer_encoded = integer_encoded.reshape(len(integer_encoded), 1)\n",
    "    onehot_encoded = onehot_encoder.fit_transform(integer_encoded)\n",
    "    return onehot_encoded\n",
    "\n",
    "y = OneHotEncoding(all_label)"
   ]
  },
  {
   "cell_type": "code",
   "execution_count": 5,
   "id": "bad4ceda-bebd-473c-8c64-c8e21d1b1b70",
   "metadata": {},
   "outputs": [],
   "source": [
    "all_img = np.array(all_img)\n",
    "all_img = all_img.astype('float32')/255.0"
   ]
  },
  {
   "cell_type": "code",
   "execution_count": 6,
   "id": "df6d589f-1054-4d82-b30f-1ca9bd5c2c32",
   "metadata": {},
   "outputs": [],
   "source": [
    "from sklearn.model_selection import train_test_split\n",
    "x_tr, x_val, y_tr, y_val = train_test_split(all_img,np.array(y),stratify=y,test_size = 0.2,random_state=777,shuffle=True)"
   ]
  },
  {
   "cell_type": "code",
   "execution_count": 7,
   "id": "103f29a2-00ad-4c5e-90ae-bd4d9d3087bb",
   "metadata": {},
   "outputs": [
    {
     "name": "stdout",
     "output_type": "stream",
     "text": [
      "5206\n"
     ]
    }
   ],
   "source": [
    "#reshape train set and val set\n",
    "#x_tr = x_tr.reshape([len(x_tr), 480, 640, 1])\n",
    "#x_val = x_val.reshape([len(x_val), 480, 640, 1])\n",
    "print(len(x_val))"
   ]
  },
  {
   "cell_type": "code",
   "execution_count": 8,
   "id": "d6657058-0d2c-4769-9732-58e2e578e52a",
   "metadata": {},
   "outputs": [],
   "source": [
    "import keras\n",
    "from keras.layers import Dense, Dropout, Flatten, Conv2D, Input, MaxPooling2D, BatchNormalization\n",
    "from keras.models import Model\n",
    "from keras.models import Sequential\n",
    "from keras.callbacks import EarlyStopping, ModelCheckpoint\n",
    "from keras import regularizers\n",
    "from keras import backend as K\n",
    "K.clear_session()\n",
    "\n",
    "#inputs = Input(shape=(480, 640, 1))\n",
    "\n",
    "#First Conv2D layer\n",
    "#conv = Conv2D(64, kernel_size=(3, 3), padding='valid', activation='relu', strides=1)(inputs)\n",
    "#conv = MaxPooling2D(pool_size=(3, 3))(conv)\n",
    "#conv = Dropout(0.3)(conv)\n",
    "\n",
    "#Second Conv2D layer\n",
    "#conv = Conv2D(128, kernel_size=(3, 3), padding='valid', activation='relu', strides=1)(conv)\n",
    "#conv = MaxPooling2D(pool_size=(3, 3))(conv)\n",
    "#conv = Dropout(0.3)(conv)\n",
    "\n",
    "#Third Conv2D layer\n",
    "#conv = Conv2D(256, kernel_size=(3, 3), padding='valid', activation='relu', strides=1)(conv)\n",
    "#conv = MaxPooling2D(pool_size=(3, 3))(conv)\n",
    "#conv = Dropout(0.3)(conv)\n",
    "\n",
    "#Fourth Conv2D layer\n",
    "#conv = Conv2D(512, kernel_size=(3, 3), padding='same', activation='relu', strides=1)(conv)\n",
    "#conv = MaxPooling2D(pool_size=(3, 3))(conv)\n",
    "#conv = Dropout(0.3)(conv)\n",
    "\n",
    "#Fourth Conv2D layer\n",
    "#conv = Conv2D(1024, kernel_size=(3, 3), padding='same', activation='relu', strides=1)(conv)\n",
    "#conv = MaxPooling2D(pool_size=(3, 3))(conv)\n",
    "#conv = Dropout(0.3)(conv)\n",
    "\n",
    "#Flatten layer\n",
    "#conv = Flatten()(conv)\n",
    "\n",
    "#Dense Layer 1\n",
    "#conv = Dense(256, activation='tanh')(conv)\n",
    "#conv = Dropout(0.3)(conv)\n",
    "\n",
    "#Dense Layer 2\n",
    "#conv = Dense(128, activation='tanh')(conv)\n",
    "#conv = Dropout(0.3)(conv)\n",
    "\n",
    "#outputs = Dense(len(labels), activation='softmax')(conv)\n",
    "\n",
    "#model = Model(inputs, outputs)\n",
    "#model.summary()"
   ]
  },
  {
   "cell_type": "code",
   "execution_count": 9,
   "id": "ad51d707-5ba6-4961-892c-fa57ea18dbb3",
   "metadata": {},
   "outputs": [],
   "source": [
    "#model.compile(loss='categorical_crossentropy',optimizer='sgd',metrics='accuracy')"
   ]
  },
  {
   "cell_type": "code",
   "execution_count": 39,
   "id": "70ef5fa3-cc9e-4661-9b8f-aad19a221a86",
   "metadata": {},
   "outputs": [],
   "source": [
    "def create_model():\n",
    "    \n",
    "    model = Sequential()\n",
    "    \n",
    "    model.add(Conv2D(16, kernel_size = [3,3], padding = 'same', activation = 'relu', input_shape = (128,128,3)))\n",
    "    model.add(Conv2D(32, kernel_size = [3,3], padding = 'same', activation = 'relu'))\n",
    "    model.add(MaxPooling2D(pool_size = [3,3]))\n",
    "    model.add(Dropout(0.2))\n",
    "    \n",
    "    model.add(Conv2D(32, kernel_size = [3,3], padding = 'same', activation = 'relu'))\n",
    "    model.add(Conv2D(64, kernel_size = [3,3], padding = 'same', activation = 'relu'))\n",
    "    model.add(MaxPooling2D(pool_size = [3,3]))\n",
    "    model.add(Dropout(0.2))\n",
    "    \n",
    "    model.add(Conv2D(128, kernel_size = [3,3], padding = 'same', activation = 'relu'))\n",
    "    model.add(Conv2D(256, kernel_size = [3,3], padding = 'same', activation = 'relu'))\n",
    "    model.add(MaxPooling2D(pool_size = [3,3]))\n",
    "    #model.add(Dropout(0.4))\n",
    "    \n",
    "    model.add(BatchNormalization())\n",
    "    \n",
    "    model.add(Flatten())\n",
    "    #model.add(Dropout(0.9))\n",
    "    model.add(Dense(512, activation = 'relu', kernel_regularizer = regularizers.l2(0.001)))\n",
    "    model.add(Dropout(0.2))\n",
    "    model.add(Dense(128, activation = 'relu'))\n",
    "    model.add(Dense(26, activation = 'softmax'))\n",
    "    \n",
    "    model.compile(optimizer = 'adam', loss = keras.losses.categorical_crossentropy, metrics = [\"accuracy\"])\n",
    "    \n",
    "    print(\"MODEL CREATED\")\n",
    "    model.summary()\n",
    "    \n",
    "    return model\n",
    "\n",
    "#def fit_model():\n",
    "    #model_hist = model.fit(X_train, Y_train, batch_size = 64, epochs = 5, validation_split = 0.1)\n",
    "    #return model_hist "
   ]
  },
  {
   "cell_type": "code",
   "execution_count": 40,
   "id": "aec91c33-782b-44a9-b416-f149ae24d8e3",
   "metadata": {},
   "outputs": [],
   "source": [
    "es = EarlyStopping(monitor='val_loss', mode='min', verbose=1, patience=10, min_delta=0.00001) \n",
    "mc = ModelCheckpoint('872_best_model_CNN.hdf5', monitor='val_accuracy', verbose=1, save_best_only=True, mode='max')"
   ]
  },
  {
   "cell_type": "code",
   "execution_count": 41,
   "id": "1b9bbabd-3dcf-42c8-be5e-b7dce428d077",
   "metadata": {},
   "outputs": [
    {
     "name": "stdout",
     "output_type": "stream",
     "text": [
      "26\n"
     ]
    }
   ],
   "source": [
    "print(len(labels))"
   ]
  },
  {
   "cell_type": "code",
   "execution_count": 42,
   "id": "0da3a768-e16d-4870-9489-d2e33b80a445",
   "metadata": {},
   "outputs": [
    {
     "name": "stdout",
     "output_type": "stream",
     "text": [
      "MODEL CREATED\n",
      "Model: \"sequential_5\"\n",
      "_________________________________________________________________\n",
      "Layer (type)                 Output Shape              Param #   \n",
      "=================================================================\n",
      "conv2d_30 (Conv2D)           (None, 128, 128, 16)      448       \n",
      "_________________________________________________________________\n",
      "conv2d_31 (Conv2D)           (None, 128, 128, 32)      4640      \n",
      "_________________________________________________________________\n",
      "max_pooling2d_15 (MaxPooling (None, 42, 42, 32)        0         \n",
      "_________________________________________________________________\n",
      "dropout_11 (Dropout)         (None, 42, 42, 32)        0         \n",
      "_________________________________________________________________\n",
      "conv2d_32 (Conv2D)           (None, 42, 42, 32)        9248      \n",
      "_________________________________________________________________\n",
      "conv2d_33 (Conv2D)           (None, 42, 42, 64)        18496     \n",
      "_________________________________________________________________\n",
      "max_pooling2d_16 (MaxPooling (None, 14, 14, 64)        0         \n",
      "_________________________________________________________________\n",
      "dropout_12 (Dropout)         (None, 14, 14, 64)        0         \n",
      "_________________________________________________________________\n",
      "conv2d_34 (Conv2D)           (None, 14, 14, 128)       73856     \n",
      "_________________________________________________________________\n",
      "conv2d_35 (Conv2D)           (None, 14, 14, 256)       295168    \n",
      "_________________________________________________________________\n",
      "max_pooling2d_17 (MaxPooling (None, 4, 4, 256)         0         \n",
      "_________________________________________________________________\n",
      "batch_normalization_5 (Batch (None, 4, 4, 256)         1024      \n",
      "_________________________________________________________________\n",
      "flatten_5 (Flatten)          (None, 4096)              0         \n",
      "_________________________________________________________________\n",
      "dense_12 (Dense)             (None, 512)               2097664   \n",
      "_________________________________________________________________\n",
      "dropout_13 (Dropout)         (None, 512)               0         \n",
      "_________________________________________________________________\n",
      "dense_13 (Dense)             (None, 128)               65664     \n",
      "_________________________________________________________________\n",
      "dense_14 (Dense)             (None, 26)                3354      \n",
      "=================================================================\n",
      "Total params: 2,569,562\n",
      "Trainable params: 2,569,050\n",
      "Non-trainable params: 512\n",
      "_________________________________________________________________\n"
     ]
    }
   ],
   "source": [
    "model = create_model()"
   ]
  },
  {
   "cell_type": "code",
   "execution_count": 43,
   "id": "9daa5ccb-57b1-42e8-b7d7-bb565722c4d7",
   "metadata": {},
   "outputs": [
    {
     "name": "stdout",
     "output_type": "stream",
     "text": [
      "Epoch 1/30\n",
      "326/326 [==============================] - 11s 31ms/step - loss: 2.6142 - accuracy: 0.3260 - val_loss: 1.6403 - val_accuracy: 0.6957\n",
      "\n",
      "Epoch 00001: val_accuracy improved from -inf to 0.69574, saving model to 872_best_model_CNN.hdf5\n",
      "Epoch 2/30\n",
      "326/326 [==============================] - 10s 30ms/step - loss: 0.5256 - accuracy: 0.8745 - val_loss: 0.4161 - val_accuracy: 0.9045\n",
      "\n",
      "Epoch 00002: val_accuracy improved from 0.69574 to 0.90453, saving model to 872_best_model_CNN.hdf5\n",
      "Epoch 3/30\n",
      "326/326 [==============================] - 10s 30ms/step - loss: 0.3563 - accuracy: 0.9177 - val_loss: 0.3928 - val_accuracy: 0.9047\n",
      "\n",
      "Epoch 00003: val_accuracy improved from 0.90453 to 0.90473, saving model to 872_best_model_CNN.hdf5\n",
      "Epoch 4/30\n",
      "326/326 [==============================] - 10s 30ms/step - loss: 0.2962 - accuracy: 0.9346 - val_loss: 0.2699 - val_accuracy: 0.9433\n",
      "\n",
      "Epoch 00004: val_accuracy improved from 0.90473 to 0.94333, saving model to 872_best_model_CNN.hdf5\n",
      "Epoch 5/30\n",
      "326/326 [==============================] - 10s 30ms/step - loss: 0.2885 - accuracy: 0.9354 - val_loss: 0.3518 - val_accuracy: 0.9245\n",
      "\n",
      "Epoch 00005: val_accuracy did not improve from 0.94333\n",
      "Epoch 6/30\n",
      "326/326 [==============================] - 10s 30ms/step - loss: 0.2747 - accuracy: 0.9387 - val_loss: 0.2465 - val_accuracy: 0.9462\n",
      "\n",
      "Epoch 00006: val_accuracy improved from 0.94333 to 0.94622, saving model to 872_best_model_CNN.hdf5\n",
      "Epoch 7/30\n",
      "326/326 [==============================] - 10s 30ms/step - loss: 0.2381 - accuracy: 0.9443 - val_loss: 0.2657 - val_accuracy: 0.9383\n",
      "\n",
      "Epoch 00007: val_accuracy did not improve from 0.94622\n",
      "Epoch 8/30\n",
      "326/326 [==============================] - 10s 30ms/step - loss: 0.3080 - accuracy: 0.9339 - val_loss: 0.3221 - val_accuracy: 0.9328\n",
      "\n",
      "Epoch 00008: val_accuracy did not improve from 0.94622\n",
      "Epoch 9/30\n",
      "326/326 [==============================] - 10s 30ms/step - loss: 0.2445 - accuracy: 0.9488 - val_loss: 0.2119 - val_accuracy: 0.9512\n",
      "\n",
      "Epoch 00009: val_accuracy improved from 0.94622 to 0.95121, saving model to 872_best_model_CNN.hdf5\n",
      "Epoch 10/30\n",
      "326/326 [==============================] - 10s 30ms/step - loss: 0.2256 - accuracy: 0.9468 - val_loss: 0.2625 - val_accuracy: 0.9418\n",
      "\n",
      "Epoch 00010: val_accuracy did not improve from 0.95121\n",
      "Epoch 11/30\n",
      "326/326 [==============================] - 10s 31ms/step - loss: 0.2646 - accuracy: 0.9455 - val_loss: 0.2454 - val_accuracy: 0.9454\n",
      "\n",
      "Epoch 00011: val_accuracy did not improve from 0.95121\n",
      "Epoch 12/30\n",
      "326/326 [==============================] - 10s 30ms/step - loss: 0.2371 - accuracy: 0.9469 - val_loss: 0.2230 - val_accuracy: 0.9514\n",
      "\n",
      "Epoch 00012: val_accuracy improved from 0.95121 to 0.95140, saving model to 872_best_model_CNN.hdf5\n",
      "Epoch 13/30\n",
      "326/326 [==============================] - 10s 31ms/step - loss: 0.1941 - accuracy: 0.9530 - val_loss: 0.2113 - val_accuracy: 0.9474\n",
      "\n",
      "Epoch 00013: val_accuracy did not improve from 0.95140\n",
      "Epoch 14/30\n",
      "326/326 [==============================] - 10s 31ms/step - loss: 0.2483 - accuracy: 0.9456 - val_loss: 0.2387 - val_accuracy: 0.9487\n",
      "\n",
      "Epoch 00014: val_accuracy did not improve from 0.95140\n",
      "Epoch 15/30\n",
      "326/326 [==============================] - 10s 30ms/step - loss: 0.2281 - accuracy: 0.9506 - val_loss: 0.2104 - val_accuracy: 0.9491\n",
      "\n",
      "Epoch 00015: val_accuracy did not improve from 0.95140\n",
      "Epoch 16/30\n",
      "326/326 [==============================] - 10s 31ms/step - loss: 0.1987 - accuracy: 0.9533 - val_loss: 0.1908 - val_accuracy: 0.9527\n",
      "\n",
      "Epoch 00016: val_accuracy improved from 0.95140 to 0.95275, saving model to 872_best_model_CNN.hdf5\n",
      "Epoch 17/30\n",
      "326/326 [==============================] - 10s 30ms/step - loss: 0.2027 - accuracy: 0.9509 - val_loss: 0.2310 - val_accuracy: 0.9443\n",
      "\n",
      "Epoch 00017: val_accuracy did not improve from 0.95275\n",
      "Epoch 18/30\n",
      "326/326 [==============================] - 10s 31ms/step - loss: 0.2286 - accuracy: 0.9509 - val_loss: 0.2056 - val_accuracy: 0.9493\n",
      "\n",
      "Epoch 00018: val_accuracy did not improve from 0.95275\n",
      "Epoch 19/30\n",
      "326/326 [==============================] - 10s 30ms/step - loss: 0.1770 - accuracy: 0.9568 - val_loss: 0.1676 - val_accuracy: 0.9564\n",
      "\n",
      "Epoch 00019: val_accuracy improved from 0.95275 to 0.95640, saving model to 872_best_model_CNN.hdf5\n",
      "Epoch 20/30\n",
      "326/326 [==============================] - 10s 31ms/step - loss: 0.2217 - accuracy: 0.9479 - val_loss: 0.2686 - val_accuracy: 0.9401\n",
      "\n",
      "Epoch 00020: val_accuracy did not improve from 0.95640\n",
      "Epoch 21/30\n",
      "326/326 [==============================] - 10s 30ms/step - loss: 0.2319 - accuracy: 0.9510 - val_loss: 0.2053 - val_accuracy: 0.9518\n",
      "\n",
      "Epoch 00021: val_accuracy did not improve from 0.95640\n",
      "Epoch 22/30\n",
      "326/326 [==============================] - 10s 30ms/step - loss: 0.1902 - accuracy: 0.9557 - val_loss: 0.1623 - val_accuracy: 0.9556\n",
      "\n",
      "Epoch 00022: val_accuracy did not improve from 0.95640\n",
      "Epoch 23/30\n",
      "326/326 [==============================] - 10s 30ms/step - loss: 0.1460 - accuracy: 0.9603 - val_loss: 0.1994 - val_accuracy: 0.9449\n",
      "\n",
      "Epoch 00023: val_accuracy did not improve from 0.95640\n",
      "Epoch 24/30\n",
      "326/326 [==============================] - 10s 31ms/step - loss: 0.2229 - accuracy: 0.9482 - val_loss: 0.2217 - val_accuracy: 0.9512\n",
      "\n",
      "Epoch 00024: val_accuracy did not improve from 0.95640\n",
      "Epoch 25/30\n",
      "326/326 [==============================] - 10s 31ms/step - loss: 0.1898 - accuracy: 0.9534 - val_loss: 0.2004 - val_accuracy: 0.9479\n",
      "\n",
      "Epoch 00025: val_accuracy did not improve from 0.95640\n",
      "Epoch 26/30\n",
      "326/326 [==============================] - 10s 31ms/step - loss: 0.1748 - accuracy: 0.9552 - val_loss: 0.2305 - val_accuracy: 0.9430\n",
      "\n",
      "Epoch 00026: val_accuracy did not improve from 0.95640\n",
      "Epoch 27/30\n",
      "326/326 [==============================] - 10s 31ms/step - loss: 0.1862 - accuracy: 0.9525 - val_loss: 0.1829 - val_accuracy: 0.9541\n",
      "\n",
      "Epoch 00027: val_accuracy did not improve from 0.95640\n",
      "Epoch 28/30\n",
      "326/326 [==============================] - 10s 31ms/step - loss: 0.1930 - accuracy: 0.9516 - val_loss: 0.1935 - val_accuracy: 0.9541\n",
      "\n",
      "Epoch 00028: val_accuracy did not improve from 0.95640\n",
      "Epoch 29/30\n",
      "326/326 [==============================] - 10s 31ms/step - loss: 0.1894 - accuracy: 0.9537 - val_loss: 0.1887 - val_accuracy: 0.9554\n",
      "\n",
      "Epoch 00029: val_accuracy did not improve from 0.95640\n",
      "Epoch 30/30\n",
      "326/326 [==============================] - 10s 31ms/step - loss: 0.1918 - accuracy: 0.9541 - val_loss: 0.1739 - val_accuracy: 0.9570\n",
      "\n",
      "Epoch 00030: val_accuracy improved from 0.95640 to 0.95697, saving model to 872_best_model_CNN.hdf5\n"
     ]
    }
   ],
   "source": [
    "#Train and Test The Model\n",
    "\n",
    "history=model.fit(x_tr, y_tr ,epochs=30, callbacks=[es,mc], batch_size=64, validation_data=(x_val,y_val))"
   ]
  },
  {
   "cell_type": "code",
   "execution_count": 44,
   "id": "b77a03d4-613c-448d-9fcc-075298a2bef8",
   "metadata": {},
   "outputs": [
    {
     "data": {
      "image/png": "[encoded data removed]",
      "text/plain": [
       "<Figure size 432x288 with 1 Axes>"
      ]
     },
     "metadata": {
      "needs_background": "light"
     },
     "output_type": "display_data"
    }
   ],
   "source": [
    "from matplotlib import pyplot \n",
    "pyplot.plot(history.history['loss'], label='train') \n",
    "pyplot.plot(history.history['val_loss'], label='test') \n",
    "pyplot.legend()\n",
    "pyplot.show()"
   ]
  },
  {
   "cell_type": "code",
   "execution_count": 45,
   "id": "25d00648-4e6d-48c6-b708-3b213441d070",
   "metadata": {},
   "outputs": [
    {
     "data": {
      "image/png": "[encoded data removed]",
      "text/plain": [
       "<Figure size 432x288 with 1 Axes>"
      ]
     },
     "metadata": {
      "needs_background": "light"
     },
     "output_type": "display_data"
    }
   ],
   "source": [
    "pyplot.plot(history.history['accuracy'], label='train') \n",
    "pyplot.plot(history.history['val_accuracy'], label='test') \n",
    "pyplot.legend()\n",
    "pyplot.show()"
   ]
  },
  {
   "cell_type": "code",
   "execution_count": null,
   "id": "68bffc08-6ddc-4792-9c31-4d293e0b2894",
   "metadata": {},
   "outputs": [],
   "source": []
  }
 ],
 "metadata": {
  "kernelspec": {
   "display_name": "Python 3 (ipykernel)",
   "language": "python",
   "name": "python3"
  },
  "language_info": {
   "codemirror_mode": {
    "name": "ipython",
    "version": 3
   },
   "file_extension": ".py",
   "mimetype": "text/x-python",
   "name": "python",
   "nbconvert_exporter": "python",
   "pygments_lexer": "ipython3",
   "version": "3.9.7"
  }
 },
 "nbformat": 4,
 "nbformat_minor": 5
}
