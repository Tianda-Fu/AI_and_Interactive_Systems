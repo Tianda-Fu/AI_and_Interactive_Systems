{
 "cells": [
  {
   "cell_type": "code",
   "execution_count": 1,
   "id": "51a968ff-dd91-4393-8dc1-37bcace4674a",
   "metadata": {},
   "outputs": [],
   "source": [
    "import tensorflow as tf\n",
    "import os\n",
    "import cv2\n",
    "import numpy as np\n",
    "import matplotlib as plt\n",
    "import warnings\n",
    "warnings.filterwarnings(\"ignore\")"
   ]
  },
  {
   "cell_type": "code",
   "execution_count": 2,
   "id": "cf341fbd-f88f-44c1-943a-39d7f1a3266b",
   "metadata": {},
   "outputs": [],
   "source": [
    "train_ASL_path = \"E:\\ELEC872_project\\\\archive\\output\\dataset\""
   ]
  },
  {
   "cell_type": "code",
   "execution_count": 3,
   "id": "b67c79ac-2154-456f-b7be-44e6748494d1",
   "metadata": {},
   "outputs": [
    {
     "name": "stdout",
     "output_type": "stream",
     "text": [
      "a\n",
      "1001\n",
      "size of this label: 1001\n",
      "b\n",
      "1001\n",
      "size of this label: 2002\n",
      "c\n",
      "1001\n",
      "size of this label: 3003\n",
      "d\n",
      "1001\n",
      "size of this label: 4004\n",
      "e\n",
      "1001\n",
      "size of this label: 5005\n",
      "f\n",
      "1001\n",
      "size of this label: 6006\n",
      "g\n",
      "1001\n",
      "size of this label: 7007\n",
      "h\n",
      "1001\n",
      "size of this label: 8008\n",
      "i\n",
      "1001\n",
      "size of this label: 9009\n",
      "j\n",
      "1001\n",
      "size of this label: 10010\n",
      "k\n",
      "1001\n",
      "size of this label: 11011\n",
      "l\n",
      "1001\n",
      "size of this label: 12012\n",
      "m\n",
      "1001\n",
      "size of this label: 13013\n",
      "n\n",
      "1001\n",
      "size of this label: 14014\n",
      "o\n",
      "1001\n",
      "size of this label: 15015\n",
      "p\n",
      "1001\n",
      "size of this label: 16016\n",
      "q\n",
      "1001\n",
      "size of this label: 17017\n",
      "r\n",
      "1001\n",
      "size of this label: 18018\n",
      "s\n",
      "1001\n",
      "size of this label: 19019\n",
      "t\n",
      "1001\n",
      "size of this label: 20020\n",
      "u\n",
      "1001\n",
      "size of this label: 21021\n",
      "v\n",
      "1001\n",
      "size of this label: 22022\n",
      "w\n",
      "1001\n",
      "size of this label: 23023\n",
      "x\n",
      "1001\n",
      "size of this label: 24024\n",
      "y\n",
      "1001\n",
      "size of this label: 25025\n",
      "z\n",
      "1001\n",
      "size of this label: 26026\n"
     ]
    }
   ],
   "source": [
    "labels = os.listdir(train_ASL_path)\n",
    "\n",
    "labels = [\"a\",\"b\",\"c\",\"d\",\"e\",\"f\",\"g\",\"h\",\"i\",\"j\",\"k\",\"l\",\"m\",\"n\",\"o\",\"p\",\"q\",\"r\",\"s\",\"t\",\"u\",\"v\",\"w\",\"x\",\"y\",\"z\"]\n",
    "\n",
    "all_img = []\n",
    "all_label = []\n",
    "\n",
    "for label in labels:\n",
    "    print(label)\n",
    "    imgs = [f for f in os.listdir(train_ASL_path + '\\\\' + label + '\\\\lit\\\\') if f.endswith('.png')]\n",
    "    print(len(imgs))\n",
    "    for img in imgs:\n",
    "        data = cv2.imread(train_ASL_path + '\\\\' + label + '\\\\lit\\\\' + img)\n",
    "        #print(data.shape)\n",
    "        #cv2.imshow('image', data)\n",
    "        data = cv2.resize(data, (128,128))\n",
    "        all_img.append(data)\n",
    "        all_label.append(label)\n",
    "    print(\"size of this label:\", len(all_img))"
   ]
  },
  {
   "cell_type": "code",
   "execution_count": 4,
   "id": "4502d80e-83b2-43fa-a818-d053b17053ac",
   "metadata": {},
   "outputs": [
    {
     "name": "stdout",
     "output_type": "stream",
     "text": [
      "[ 0  0  0 ... 25 25 25]\n"
     ]
    }
   ],
   "source": [
    "from sklearn.preprocessing import OneHotEncoder\n",
    "from sklearn.preprocessing import LabelEncoder\n",
    "def OneHotEncoding(labels):\n",
    "    # convert array\n",
    "    labels = np.array(labels)\n",
    "    # integer encode\n",
    "    label_encoder = LabelEncoder()\n",
    "    integer_encoded = label_encoder.fit_transform(labels)\n",
    "    print(integer_encoded)\n",
    "    # binary encode\n",
    "    onehot_encoder = OneHotEncoder(sparse=False)\n",
    "    integer_encoded = integer_encoded.reshape(len(integer_encoded), 1)\n",
    "    onehot_encoded = onehot_encoder.fit_transform(integer_encoded)\n",
    "    return onehot_encoded\n",
    "\n",
    "y = OneHotEncoding(all_label)"
   ]
  },
  {
   "cell_type": "code",
   "execution_count": 5,
   "id": "7c3785e8-4d9c-4ff6-a86a-692843bcc2d2",
   "metadata": {},
   "outputs": [],
   "source": [
    "all_img = np.array(all_img)\n",
    "all_img = all_img.astype('float32')/255.0"
   ]
  },
  {
   "cell_type": "code",
   "execution_count": 6,
   "id": "7df6e330-9d94-46f2-8195-6f12ac842e9b",
   "metadata": {},
   "outputs": [],
   "source": [
    "from sklearn.model_selection import train_test_split\n",
    "x_tr, x_val, y_tr, y_val = train_test_split(all_img,np.array(y),stratify=y,test_size = 0.2,random_state=777,shuffle=True)"
   ]
  },
  {
   "cell_type": "code",
   "execution_count": 23,
   "id": "da086680-8bb5-402e-b703-e014eb3a0543",
   "metadata": {},
   "outputs": [],
   "source": [
    "import keras\n",
    "from time import time\n",
    "from keras import utils\n",
    "from keras import regularizers\n",
    "from keras.optimizers import Adam\n",
    "from keras.models import Sequential\n",
    "from keras.layers import Dense, Flatten, BatchNormalization\n",
    "from keras.applications import VGG16\n",
    "from keras.callbacks import EarlyStopping, ModelCheckpoint\n",
    "\n",
    "classes = 26\n",
    "batch = 64\n",
    "epochs = 20\n",
    "learning_rate = 0.0001\n",
    "\n",
    "def create_model():\n",
    "    #adam = Adam(lr = learning_rate)\n",
    "    \n",
    "    model = Sequential()\n",
    "\n",
    "    model.add(VGG16(weights = 'imagenet', include_top = False, input_shape = (128,128,3)))\n",
    "    \n",
    "    model.add(BatchNormalization())\n",
    "\n",
    "    model.add(Flatten())\n",
    "\n",
    "    model.add(Dense(512, activation = 'relu', kernel_regularizer = regularizers.l2(0.001)))\n",
    "\n",
    "    model.add(Dense(26, activation = 'softmax'))\n",
    "\n",
    "    #start = time()\n",
    "    #train_time = time() - start\n",
    "    \n",
    "    model.compile(optimizer = 'sgd', loss = keras.losses.categorical_crossentropy, metrics = ['accuracy'])\n",
    "\n",
    "    model.summary()\n",
    "    return model"
   ]
  },
  {
   "cell_type": "code",
   "execution_count": null,
   "id": "48efffcf-38f5-4bf7-bbd5-d58880ec945e",
   "metadata": {},
   "outputs": [],
   "source": []
  },
  {
   "cell_type": "code",
   "execution_count": 24,
   "id": "88a6757f-2e64-4370-b38c-44ce47a1c2ad",
   "metadata": {},
   "outputs": [
    {
     "name": "stdout",
     "output_type": "stream",
     "text": [
      "Model: \"sequential_4\"\n",
      "_________________________________________________________________\n",
      "Layer (type)                 Output Shape              Param #   \n",
      "=================================================================\n",
      "vgg16 (Functional)           (None, 4, 4, 512)         14714688  \n",
      "_________________________________________________________________\n",
      "batch_normalization_2 (Batch (None, 4, 4, 512)         2048      \n",
      "_________________________________________________________________\n",
      "flatten_4 (Flatten)          (None, 8192)              0         \n",
      "_________________________________________________________________\n",
      "dense_8 (Dense)              (None, 512)               4194816   \n",
      "_________________________________________________________________\n",
      "dense_9 (Dense)              (None, 26)                13338     \n",
      "=================================================================\n",
      "Total params: 18,924,890\n",
      "Trainable params: 18,923,866\n",
      "Non-trainable params: 1,024\n",
      "_________________________________________________________________\n"
     ]
    }
   ],
   "source": [
    "model=create_model()"
   ]
  },
  {
   "cell_type": "code",
   "execution_count": 25,
   "id": "cc88d5f0-53e0-4b27-8513-593130c148e1",
   "metadata": {},
   "outputs": [],
   "source": [
    "es = EarlyStopping(monitor='val_loss', mode='min', verbose=1, patience=10, min_delta=0.00001) \n",
    "mc = ModelCheckpoint('872_best_model_VGG16.hdf5', monitor='val_accuracy', verbose=1, save_best_only=True, mode='max')"
   ]
  },
  {
   "cell_type": "code",
   "execution_count": 26,
   "id": "08262f95-7229-4df5-b589-8d689b543718",
   "metadata": {},
   "outputs": [
    {
     "name": "stdout",
     "output_type": "stream",
     "text": [
      "Epoch 1/20\n",
      "326/326 [==============================] - 61s 185ms/step - loss: 2.9624 - accuracy: 0.4011 - val_loss: 2.3667 - val_accuracy: 0.5265\n",
      "\n",
      "Epoch 00001: val_accuracy improved from -inf to 0.52651, saving model to 872_best_model_VGG16.hdf5\n",
      "Epoch 2/20\n",
      "326/326 [==============================] - 60s 185ms/step - loss: 1.1628 - accuracy: 0.9185 - val_loss: 1.1256 - val_accuracy: 0.9337\n",
      "\n",
      "Epoch 00002: val_accuracy improved from 0.52651 to 0.93373, saving model to 872_best_model_VGG16.hdf5\n",
      "Epoch 3/20\n",
      "326/326 [==============================] - 61s 186ms/step - loss: 1.0341 - accuracy: 0.9550 - val_loss: 1.0457 - val_accuracy: 0.9514\n",
      "\n",
      "Epoch 00003: val_accuracy improved from 0.93373 to 0.95140, saving model to 872_best_model_VGG16.hdf5\n",
      "Epoch 4/20\n",
      "326/326 [==============================] - 61s 186ms/step - loss: 0.9946 - accuracy: 0.9645 - val_loss: 1.0310 - val_accuracy: 0.9485\n",
      "\n",
      "Epoch 00004: val_accuracy did not improve from 0.95140\n",
      "Epoch 5/20\n",
      "326/326 [==============================] - 61s 187ms/step - loss: 0.9725 - accuracy: 0.9694 - val_loss: 0.9950 - val_accuracy: 0.9531\n",
      "\n",
      "Epoch 00005: val_accuracy improved from 0.95140 to 0.95313, saving model to 872_best_model_VGG16.hdf5\n",
      "Epoch 6/20\n",
      "326/326 [==============================] - 61s 187ms/step - loss: 0.9526 - accuracy: 0.9749 - val_loss: 0.9825 - val_accuracy: 0.9522\n",
      "\n",
      "Epoch 00006: val_accuracy did not improve from 0.95313\n",
      "Epoch 7/20\n",
      "326/326 [==============================] - 61s 187ms/step - loss: 0.9367 - accuracy: 0.9786 - val_loss: 0.9678 - val_accuracy: 0.9545\n",
      "\n",
      "Epoch 00007: val_accuracy improved from 0.95313 to 0.95448, saving model to 872_best_model_VGG16.hdf5\n",
      "Epoch 8/20\n",
      "326/326 [==============================] - 61s 187ms/step - loss: 0.9202 - accuracy: 0.9803 - val_loss: 0.9841 - val_accuracy: 0.9547\n",
      "\n",
      "Epoch 00008: val_accuracy improved from 0.95448 to 0.95467, saving model to 872_best_model_VGG16.hdf5\n",
      "Epoch 9/20\n",
      "326/326 [==============================] - 61s 187ms/step - loss: 0.9040 - accuracy: 0.9840 - val_loss: 1.0162 - val_accuracy: 0.9322\n",
      "\n",
      "Epoch 00009: val_accuracy did not improve from 0.95467\n",
      "Epoch 10/20\n",
      "326/326 [==============================] - 61s 187ms/step - loss: 0.8893 - accuracy: 0.9870 - val_loss: 0.9699 - val_accuracy: 0.9478\n",
      "\n",
      "Epoch 00010: val_accuracy did not improve from 0.95467\n",
      "Epoch 11/20\n",
      "326/326 [==============================] - 61s 188ms/step - loss: 0.8709 - accuracy: 0.9908 - val_loss: 0.9865 - val_accuracy: 0.9535\n",
      "\n",
      "Epoch 00011: val_accuracy did not improve from 0.95467\n",
      "Epoch 12/20\n",
      "326/326 [==============================] - 61s 187ms/step - loss: 0.8536 - accuracy: 0.9945 - val_loss: 0.9890 - val_accuracy: 0.9529\n",
      "\n",
      "Epoch 00012: val_accuracy did not improve from 0.95467\n",
      "Epoch 13/20\n",
      "326/326 [==============================] - 61s 187ms/step - loss: 0.8389 - accuracy: 0.9959 - val_loss: 0.9416 - val_accuracy: 0.9554\n",
      "\n",
      "Epoch 00013: val_accuracy improved from 0.95467 to 0.95544, saving model to 872_best_model_VGG16.hdf5\n",
      "Epoch 14/20\n",
      "326/326 [==============================] - 61s 187ms/step - loss: 0.8249 - accuracy: 0.9973 - val_loss: 0.9425 - val_accuracy: 0.9522\n",
      "\n",
      "Epoch 00014: val_accuracy did not improve from 0.95544\n",
      "Epoch 15/20\n",
      "326/326 [==============================] - 61s 187ms/step - loss: 0.8085 - accuracy: 0.9995 - val_loss: 0.9367 - val_accuracy: 0.9552\n",
      "\n",
      "Epoch 00015: val_accuracy did not improve from 0.95544\n",
      "Epoch 16/20\n",
      "326/326 [==============================] - 61s 187ms/step - loss: 0.7951 - accuracy: 0.9999 - val_loss: 0.9338 - val_accuracy: 0.9545\n",
      "\n",
      "Epoch 00016: val_accuracy did not improve from 0.95544\n",
      "Epoch 17/20\n",
      "326/326 [==============================] - 61s 187ms/step - loss: 0.7837 - accuracy: 1.0000 - val_loss: 0.9268 - val_accuracy: 0.9539\n",
      "\n",
      "Epoch 00017: val_accuracy did not improve from 0.95544\n",
      "Epoch 18/20\n",
      "326/326 [==============================] - 61s 187ms/step - loss: 0.7732 - accuracy: 1.0000 - val_loss: 0.9227 - val_accuracy: 0.9543\n",
      "\n",
      "Epoch 00018: val_accuracy did not improve from 0.95544\n",
      "Epoch 19/20\n",
      "326/326 [==============================] - 61s 187ms/step - loss: 0.7630 - accuracy: 1.0000 - val_loss: 0.9166 - val_accuracy: 0.9554\n",
      "\n",
      "Epoch 00019: val_accuracy did not improve from 0.95544\n",
      "Epoch 20/20\n",
      "326/326 [==============================] - 61s 188ms/step - loss: 0.7530 - accuracy: 1.0000 - val_loss: 0.9061 - val_accuracy: 0.9554\n",
      "\n",
      "Epoch 00020: val_accuracy did not improve from 0.95544\n"
     ]
    }
   ],
   "source": [
    "#Train and Test The Model\n",
    "\n",
    "history=model.fit(x_tr, y_tr ,epochs=20, callbacks=[es,mc], batch_size=64, validation_data=(x_val,y_val))"
   ]
  },
  {
   "cell_type": "code",
   "execution_count": 27,
   "id": "967822ce-5408-453d-b71e-5f3747579a78",
   "metadata": {},
   "outputs": [
    {
     "data": {
      "image/png": "[encoded data removed]",
      "text/plain": [
       "<Figure size 432x288 with 1 Axes>"
      ]
     },
     "metadata": {
      "needs_background": "light"
     },
     "output_type": "display_data"
    }
   ],
   "source": [
    "from matplotlib import pyplot \n",
    "pyplot.plot(history.history['loss'], label='train') \n",
    "pyplot.plot(history.history['val_loss'], label='test') \n",
    "pyplot.legend()\n",
    "pyplot.show()"
   ]
  },
  {
   "cell_type": "code",
   "execution_count": 28,
   "id": "332e962f-5fbf-4623-a4fd-5b717fac9120",
   "metadata": {},
   "outputs": [
    {
     "data": {
      "image/png": "[encoded data removed]",
      "text/plain": [
       "<Figure size 432x288 with 1 Axes>"
      ]
     },
     "metadata": {
      "needs_background": "light"
     },
     "output_type": "display_data"
    }
   ],
   "source": [
    "pyplot.plot(history.history['accuracy'], label='train') \n",
    "pyplot.plot(history.history['val_accuracy'], label='test') \n",
    "pyplot.legend()\n",
    "pyplot.show()"
   ]
  },
  {
   "cell_type": "code",
   "execution_count": null,
   "id": "d776812a-0174-40e4-a988-a973f0efabc2",
   "metadata": {},
   "outputs": [],
   "source": []
  },
  {
   "cell_type": "code",
   "execution_count": null,
   "id": "16800ed7-e813-4332-969d-f14a82cb1b33",
   "metadata": {},
   "outputs": [],
   "source": []
  }
 ],
 "metadata": {
  "kernelspec": {
   "display_name": "Python 3 (ipykernel)",
   "language": "python",
   "name": "python3"
  },
  "language_info": {
   "codemirror_mode": {
    "name": "ipython",
    "version": 3
   },
   "file_extension": ".py",
   "mimetype": "text/x-python",
   "name": "python",
   "nbconvert_exporter": "python",
   "pygments_lexer": "ipython3",
   "version": "3.9.7"
  }
 },
 "nbformat": 4,
 "nbformat_minor": 5
}
